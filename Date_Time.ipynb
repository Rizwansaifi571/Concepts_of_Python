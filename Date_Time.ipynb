{
 "cells": [
  {
   "cell_type": "markdown",
   "metadata": {},
   "source": [
    "# __Python DateTime.__\n",
    "Date : 1, Jan, 2024."
   ]
  },
  {
   "cell_type": "markdown",
   "metadata": {},
   "source": [
    "-> __Python Dates.__\n",
    "  \n",
    "A date in Python is not a data type of its own, but we can import a module named datetime to work with dates as date objects."
   ]
  },
  {
   "cell_type": "markdown",
   "metadata": {},
   "source": [
    "Example : Import the datetime module and display the current date:"
   ]
  },
  {
   "cell_type": "code",
   "execution_count": 2,
   "metadata": {},
   "outputs": [
    {
     "name": "stdout",
     "output_type": "stream",
     "text": [
      "2024-02-01 21:25:43.634555\n"
     ]
    }
   ],
   "source": [
    "import datetime\n",
    "x = datetime.datetime.now()\n",
    "print(x)"
   ]
  },
  {
   "cell_type": "markdown",
   "metadata": {},
   "source": [
    "* The date contains year, month, day, hour, minute, second, and microsecond."
   ]
  },
  {
   "cell_type": "markdown",
   "metadata": {},
   "source": [
    "Example : Return the year and name of weekday:"
   ]
  },
  {
   "cell_type": "code",
   "execution_count": 3,
   "metadata": {},
   "outputs": [
    {
     "name": "stdout",
     "output_type": "stream",
     "text": [
      "2024\n",
      "Thursday\n"
     ]
    }
   ],
   "source": [
    "x= datetime.datetime.now()\n",
    "print(x.year)\n",
    "print(x.strftime('%A'))    #Full Version Of Weekday."
   ]
  },
  {
   "cell_type": "markdown",
   "metadata": {},
   "source": [
    "-> __The strftime() Method.__\n",
    "   \n",
    "* The datetime object has a method for formatting date objects into readable strings.\n",
    "\n",
    "* The method is called strftime(), and takes one parameter, format, to specify the format of the returned string:"
   ]
  },
  {
   "cell_type": "code",
   "execution_count": 6,
   "metadata": {},
   "outputs": [
    {
     "name": "stdout",
     "output_type": "stream",
     "text": [
      "February\n"
     ]
    }
   ],
   "source": [
    "import datetime\n",
    "x=datetime.datetime.now()\n",
    "print(x.strftime('%B'))  # Full Version Of Month."
   ]
  },
  {
   "cell_type": "markdown",
   "metadata": {},
   "source": [
    "A reference of all the legal format codes:    \n",
    "\n",
    "__Directive__  -->\t__Description__\t\n",
    "\n",
    "* %a\t        Weekday, short version        \t-->                Wed\t\n",
    "   \n",
    "* %A\t        Weekday, full version        \t   -->             Wednesday\t\n",
    "   \n",
    "* %w\t        Weekday as a number 0-6, 0 is Sunday   -->\t        3\t\n",
    "   \n",
    "* %d\t        Day of month                              -->      01-31\t31\t\n",
    "   \n",
    "* %b\t        Month name, short version                    -->   Dec\t\n",
    "  \n",
    "* %B\t        Month name, full version\t          -->          December\t\n",
    "   \n",
    "* %m\t        Month as a number 01-12\t           -->             12\t\n",
    "    \n",
    "* %y\t        Year, short version, without century   -->\t        18\t\n",
    "   \n",
    "* %Y\t        Year, full version\t           -->                 2018\n",
    "    \n",
    "* %c\tLocal version of date and time\t         -->               Mon Dec 31 17:41:00 2018\t\t\n",
    "   \n",
    "* %x\tLocal version of date\t                 -->               12/31/18\t\n",
    "   \n",
    "* %X\tLocal version of time\t                 -->               17:41:00\n",
    "   "
   ]
  }
 ],
 "metadata": {
  "kernelspec": {
   "display_name": "Python 3",
   "language": "python",
   "name": "python3"
  },
  "language_info": {
   "codemirror_mode": {
    "name": "ipython",
    "version": 3
   },
   "file_extension": ".py",
   "mimetype": "text/x-python",
   "name": "python",
   "nbconvert_exporter": "python",
   "pygments_lexer": "ipython3",
   "version": "3.11.4"
  }
 },
 "nbformat": 4,
 "nbformat_minor": 2
}
