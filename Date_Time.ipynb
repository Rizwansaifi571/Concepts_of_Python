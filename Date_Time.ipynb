{
 "cells": [
  {
   "cell_type": "markdown",
   "metadata": {},
   "source": [
    "# __Python DateTime.__\n",
    "Date : 1, Jan, 2024."
   ]
  },
  {
   "cell_type": "markdown",
   "metadata": {},
   "source": [
    "-> __Python Dates.__\n",
    "  \n",
    "A date in Python is not a data type of its own, but we can import a module named datetime to work with dates as date objects."
   ]
  },
  {
   "cell_type": "markdown",
   "metadata": {},
   "source": [
    "Example : Import the datetime module and display the current date:"
   ]
  }
 ],
 "metadata": {
  "language_info": {
   "name": "python"
  }
 },
 "nbformat": 4,
 "nbformat_minor": 2
}
